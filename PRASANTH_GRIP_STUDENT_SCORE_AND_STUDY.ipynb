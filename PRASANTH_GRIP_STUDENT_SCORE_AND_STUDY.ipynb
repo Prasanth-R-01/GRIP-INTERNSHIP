{
  "nbformat": 4,
  "nbformat_minor": 0,
  "metadata": {
    "colab": {
      "name": "PRASANTH - GRIP - STUDENT SCORE AND STUDY.ipynb",
      "provenance": [],
      "authorship_tag": "ABX9TyNQfTsIw9a8x7L1JwVRyP4s",
      "include_colab_link": true
    },
    "kernelspec": {
      "name": "python3",
      "display_name": "Python 3"
    }
  },
  "cells": [
    {
      "cell_type": "markdown",
      "metadata": {
        "id": "view-in-github",
        "colab_type": "text"
      },
      "source": [
        "<a href=\"https://colab.research.google.com/github/Prasanth-R-01/GRIP-INTERNSHIP/blob/main/PRASANTH_GRIP_STUDENT_SCORE_AND_STUDY.ipynb\" target=\"_parent\"><img src=\"https://colab.research.google.com/assets/colab-badge.svg\" alt=\"Open In Colab\"/></a>"
      ]
    },
    {
      "cell_type": "markdown",
      "metadata": {
        "id": "LYsvA75lwVBS"
      },
      "source": [
        "SIMPLE LINEAR REGRESSION"
      ]
    },
    {
      "cell_type": "markdown",
      "metadata": {
        "id": "S8-Ejgy4wdIA"
      },
      "source": [
        "IMPORTING LIBRARIES"
      ]
    },
    {
      "cell_type": "code",
      "metadata": {
        "id": "7gj0li72wf6n"
      },
      "source": [
        "import numpy as np\n",
        "import pandas as pd\n",
        "import matplotlib.pyplot as plt "
      ],
      "execution_count": 2,
      "outputs": []
    },
    {
      "cell_type": "markdown",
      "metadata": {
        "id": "eSKlIzKmwtof"
      },
      "source": [
        "IMPORTING THE DATASET"
      ]
    },
    {
      "cell_type": "code",
      "metadata": {
        "id": "0g4VEzTGw4Yl"
      },
      "source": [
        "dataset = pd.read_csv('http://bit.ly/w-data') \n",
        "x = dataset.iloc[: , :-1].values\n",
        "y = dataset.iloc[: , -1].values"
      ],
      "execution_count": 6,
      "outputs": []
    },
    {
      "cell_type": "markdown",
      "metadata": {
        "id": "s_x4ah5WyCkr"
      },
      "source": [
        "SPLITTING DATASET INTO TESTING AND TRAINING SET"
      ]
    },
    {
      "cell_type": "code",
      "metadata": {
        "id": "wf8DBP1ryTyw"
      },
      "source": [
        "from sklearn.model_selection import train_test_split\n",
        "x_train , x_test , y_train , y_test = train_test_split(x , y , test_size = 0.2 , random_state = 0)"
      ],
      "execution_count": 5,
      "outputs": []
    },
    {
      "cell_type": "markdown",
      "metadata": {
        "id": "Q3Aht8nKzG3o"
      },
      "source": [
        "TRAINING SIMPLE LINEAR REGRESSION MODEL USING TRAIN SET"
      ]
    },
    {
      "cell_type": "code",
      "metadata": {
        "id": "R8rig-ne3klU",
        "outputId": "b3a6a226-d956-43fa-bd15-29efbe401cd3",
        "colab": {
          "base_uri": "https://localhost:8080/"
        }
      },
      "source": [
        "from sklearn.linear_model import LinearRegression\n",
        "regressor = LinearRegression()\n",
        "regressor.fit(x_train , y_train)"
      ],
      "execution_count": 7,
      "outputs": [
        {
          "output_type": "execute_result",
          "data": {
            "text/plain": [
              "LinearRegression(copy_X=True, fit_intercept=True, n_jobs=None, normalize=False)"
            ]
          },
          "metadata": {
            "tags": []
          },
          "execution_count": 7
        }
      ]
    },
    {
      "cell_type": "markdown",
      "metadata": {
        "id": "Okqt0NcM4Fkc"
      },
      "source": [
        "PREDICTING TEST SET RESULTS"
      ]
    },
    {
      "cell_type": "code",
      "metadata": {
        "id": "RpbzGkcm4JWj"
      },
      "source": [
        "y_pred = regressor.predict(x_test)"
      ],
      "execution_count": 8,
      "outputs": []
    },
    {
      "cell_type": "markdown",
      "metadata": {
        "id": "Qv6eKJU74R1o"
      },
      "source": [
        "VISUALISING THE TRAIN SET RESULTS"
      ]
    },
    {
      "cell_type": "code",
      "metadata": {
        "id": "Zp6hOY2g4Y92",
        "outputId": "912d8b21-514b-4538-fa71-f5e64d78484e",
        "colab": {
          "base_uri": "https://localhost:8080/",
          "height": 295
        }
      },
      "source": [
        "plt.scatter(x_train , y_train , color = 'red')\n",
        "plt.plot(x_train , regressor.predict(x_train) , color = 'blue')\n",
        "plt.title('Hours of Study Vs Marks Scored (TRAIN SET)')\n",
        "plt.xlabel('Hours of Study')\n",
        "plt.ylabel('Marks Scored')\n",
        "plt.show()"
      ],
      "execution_count": 9,
      "outputs": [
        {
          "output_type": "display_data",
          "data": {
            "image/png": "[encoded data removed]",
            "text/plain": [
              "<Figure size 432x288 with 1 Axes>"
            ]
          },
          "metadata": {
            "tags": [],
            "needs_background": "light"
          }
        }
      ]
    },
    {
      "cell_type": "markdown",
      "metadata": {
        "id": "2ggfa1wv5SfX"
      },
      "source": [
        "VISUALISING THE TEST SET RESULTS"
      ]
    },
    {
      "cell_type": "code",
      "metadata": {
        "id": "h84h4Pzh5Wku",
        "outputId": "d3825ea2-983e-4697-d963-6a5f4056f02f",
        "colab": {
          "base_uri": "https://localhost:8080/",
          "height": 295
        }
      },
      "source": [
        "plt.scatter(x_test , y_test , color = 'red')\n",
        "plt.plot(x_train , regressor.predict(x_train) , color = 'blue')\n",
        "plt.title('Hours of Study Vs Marks Scored (TEST SET)')\n",
        "plt.xlabel('Hours of Study')\n",
        "plt.ylabel('Marks Scored')\n",
        "plt.show()"
      ],
      "execution_count": 10,
      "outputs": [
        {
          "output_type": "display_data",
          "data": {
            "image/png": "[encoded data removed]",
            "text/plain": [
              "<Figure size 432x288 with 1 Axes>"
            ]
          },
          "metadata": {
            "tags": [],
            "needs_background": "light"
          }
        }
      ]
    },
    {
      "cell_type": "markdown",
      "metadata": {
        "id": "0jhZ2GUL6mze"
      },
      "source": [
        "PREDICTING THE SCORE WHEN A STUDENT STUDIES 9.5 HOURS"
      ]
    },
    {
      "cell_type": "code",
      "metadata": {
        "id": "UAHdGRPQ6sqt",
        "outputId": "16283274-232c-45cc-9025-22bca0360c68",
        "colab": {
          "base_uri": "https://localhost:8080/"
        }
      },
      "source": [
        "print(regressor.predict([[9.25]])) "
      ],
      "execution_count": 17,
      "outputs": [
        {
          "output_type": "stream",
          "text": [
            "[93.69173249]\n"
          ],
          "name": "stdout"
        }
      ]
    },
    {
      "cell_type": "markdown",
      "metadata": {
        "id": "gCu1y1Ny7gZC"
      },
      "source": [
        "EVALUATING THE MODEL"
      ]
    },
    {
      "cell_type": "code",
      "metadata": {
        "id": "AnaXvt0O7jd3",
        "outputId": "85a5b2a2-8338-464d-fe8d-28c95e33280d",
        "colab": {
          "base_uri": "https://localhost:8080/"
        }
      },
      "source": [
        "from sklearn import metrics  \n",
        "print('Mean Absolute Error:', metrics.mean_absolute_error(y_test, y_pred))"
      ],
      "execution_count": 19,
      "outputs": [
        {
          "output_type": "stream",
          "text": [
            "Mean Absolute Error: 4.183859899002982\n"
          ],
          "name": "stdout"
        }
      ]
    }
  ]
}